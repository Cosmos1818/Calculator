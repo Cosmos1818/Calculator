{
  "nbformat": 4,
  "nbformat_minor": 0,
  "metadata": {
    "colab": {
      "name": "Calculator.ipynb",
      "provenance": []
    },
    "kernelspec": {
      "name": "python3",
      "display_name": "Python 3"
    },
    "language_info": {
      "name": "python"
    }
  },
  "cells": [
    {
      "cell_type": "code",
      "execution_count": null,
      "metadata": {
        "id": "GcPHDdtohkZS"
      },
      "outputs": [],
      "source": [
        "print (\"Enter First Number Here\") \n",
        "a = int (input ())\n",
        "print (\"Enter Second Number Here\")\n",
        "b = int (input ())\n",
        "print (\"add\", a + b)\n",
        "print (\"Subtraction\", a - b)\n",
        "print (\"Multiplication\", a * b) \n",
        "print (\"Division\", a / b)"
      ]
    }
  ]
}